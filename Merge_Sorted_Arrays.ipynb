{
 "cells": [
  {
   "cell_type": "markdown",
   "id": "7e8cd857",
   "metadata": {},
   "source": [
    "# Merge Sorted Arrays in Python"
   ]
  },
  {
   "cell_type": "markdown",
   "id": "0e2abe5d",
   "metadata": {},
   "source": [
    "\n",
    "In this notebook, we'll explore how to merge two sorted arrays efficiently. We'll use pointers to keep track of positions in both arrays and modify the first array in-place.\n",
    "\n",
    "## Problem Description\n",
    "\n",
    "Given two sorted integer arrays `nums1` and `nums2`, merge `nums2` into `nums1` as one sorted array.\n",
    "\n",
    "- The number of elements initialized in `nums1` and `nums2` are `m` and `n` respectively.\n",
    "- You may assume that `nums1` has enough space (size equal to `m + n`) to hold additional elements from `nums2`.\n"
   ]
  },
  {
   "cell_type": "markdown",
   "id": "3f76047b",
   "metadata": {},
   "source": [
    "\n",
    "## Pointers\n",
    "\n",
    "- **`i`**: Points to the last valid element in `nums1` (initially `m - 1`).\n",
    "- **`j`**: Points to the last element in `nums2` (initially `n - 1`).\n",
    "- **`k`**: Points to the last position in `nums1` (where the merged elements will go).\n",
    "\n",
    "## Algorithm\n",
    "\n",
    "### While Loop:\n",
    "\n",
    "- Compare elements from the back (`nums1[i]` and `nums2[j]`).\n",
    "- Place the larger element at position `k` in `nums1`.\n",
    "- Adjust the pointers (`i`, `j`, `k`) accordingly.\n",
    "\n",
    "### Handling Remaining Elements:\n",
    "\n",
    "- Since `nums1` already contains valid elements, only the remaining elements in `nums2` need to be copied.\n",
    "- The loop handles this case by continuing until all elements from `nums2` are merged.\n"
   ]
  },
  {
   "cell_type": "markdown",
   "id": "8379ad0b",
   "metadata": {},
   "source": [
    "\n",
    "## Complexity\n",
    "\n",
    "- **Time Complexity**: O(m + n), where `m` and `n` are the lengths of `nums1` and `nums2`.\n",
    "- **Space Complexity**: O(1), since we're modifying `nums1` in-place without using additional space.\n"
   ]
  },
  {
   "cell_type": "code",
   "execution_count": null,
   "id": "29173311",
   "metadata": {},
   "outputs": [],
   "source": [
    "\n",
    "class Solution:\n",
    "    def merge(self, nums1, m, nums2, n):\n",
    "        \"\"\"\n",
    "        Merges nums2 into nums1 in-place.\n",
    "        \"\"\"\n",
    "        i = m - 1  # Last index of nums1's initial elements\n",
    "        j = n - 1  # Last index of nums2\n",
    "        k = m + n - 1  # Last index of nums1 after merge\n",
    "\n",
    "        while j >= 0:\n",
    "            if i >= 0 and nums1[i] > nums2[j]:\n",
    "                nums1[k] = nums1[i]\n",
    "                i -= 1\n",
    "            else:\n",
    "                nums1[k] = nums2[j]\n",
    "                j -= 1\n",
    "            k -= 1\n"
   ]
  },
  {
   "cell_type": "markdown",
   "id": "355fcd84",
   "metadata": {},
   "source": [
    "\n",
    "## Example Usage\n",
    "\n",
    "Let's see how this works with an example.\n"
   ]
  },
  {
   "cell_type": "code",
   "execution_count": null,
   "id": "9c4b1d69",
   "metadata": {},
   "outputs": [],
   "source": [
    "\n",
    "# Initialize the arrays and their sizes\n",
    "nums1 = [1, 2, 3, 0, 0, 0]\n",
    "m = 3  # Number of initialized elements in nums1\n",
    "nums2 = [2, 5, 6]\n",
    "n = 3  # Number of elements in nums2\n",
    "\n",
    "# Create an instance of the solution and merge\n",
    "solution = Solution()\n",
    "solution.merge(nums1, m, nums2, n)\n",
    "\n",
    "# Output the merged array\n",
    "print(nums1)\n"
   ]
  },
  {
   "cell_type": "markdown",
   "id": "3ad54b17",
   "metadata": {},
   "source": [
    "\n",
    "**Output:**\n",
    "\n",
    "```\n",
    "[1, 2, 2, 3, 5, 6]\n",
    "```\n",
    "\n",
    "## Explanation\n",
    "\n",
    "After running the merge function:\n",
    "\n",
    "1. **First Iteration:**\n",
    "   - `nums1[2]` (3) vs `nums2[2]` (6)\n",
    "   - Place 6 at `nums1[5]`\n",
    "   - Decrement `j` and `k`\n",
    "\n",
    "2. **Second Iteration:**\n",
    "   - `nums1[2]` (3) vs `nums2[1]` (5)\n",
    "   - Place 5 at `nums1[4]`\n",
    "   - Decrement `j` and `k`\n",
    "\n",
    "3. **Third Iteration:**\n",
    "   - `nums1[2]` (3) vs `nums2[0]` (2)\n",
    "   - Place 3 at `nums1[3]`\n",
    "   - Decrement `i` and `k`\n",
    "\n",
    "4. **Fourth Iteration:**\n",
    "   - `nums1[1]` (2) vs `nums2[0]` (2)\n",
    "   - Place 2 at `nums1[2]`\n",
    "   - Decrement `j` and `k`\n",
    "\n",
    "5. **Fifth Iteration:**\n",
    "   - `nums1[1]` (2) vs `nums2[-1]` (out of bounds)\n",
    "   - Place 2 at `nums1[1]`\n",
    "   - Decrement `i` and `k`\n",
    "\n",
    "6. **Sixth Iteration:**\n",
    "   - `nums1[0]` (1) vs `nums2[-1]` (out of bounds)\n",
    "   - Place 1 at `nums1[0]`\n",
    "   - Decrement `i` and `k`\n",
    "\n",
    "## Conclusion\n",
    "\n",
    "By using pointers from the end of the arrays, we efficiently merged two sorted arrays in-place without using extra space.\n"
   ]
  }
 ],
 "metadata": {},
 "nbformat": 4,
 "nbformat_minor": 5
}
