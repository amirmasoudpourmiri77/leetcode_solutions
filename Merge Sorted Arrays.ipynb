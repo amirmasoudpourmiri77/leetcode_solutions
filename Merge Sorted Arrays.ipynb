from IPython.nbformat import v4 as nbf

# Create a new notebook
nb = nbf.new_notebook()

# Add cells to the notebook
nb.cells = [
    nbf.new_markdown_cell("# Merge Sorted Arrays in Python"),
    nbf.new_markdown_cell("""
In this notebook, we'll explore how to merge two sorted arrays efficiently. We'll use pointers to keep track of positions in both arrays and modify the first array in-place.

## Problem Description

Given two sorted integer arrays `nums1` and `nums2`, merge `nums2` into `nums1` as one sorted array.

- The number of elements initialized in `nums1` and `nums2` are `m` and `n` respectively.
- You may assume that `nums1` has enough space (size equal to `m + n`) to hold additional elements from `nums2`.
"""),
    nbf.new_markdown_cell("""
## Pointers

- **`i`**: Points to the last valid element in `nums1` (initially `m - 1`).
- **`j`**: Points to the last element in `nums2` (initially `n - 1`).
- **`k`**: Points to the last position in `nums1` (where the merged elements will go).

## Algorithm

### While Loop:

- Compare elements from the back (`nums1[i]` and `nums2[j]`).
- Place the larger element at position `k` in `nums1`.
- Adjust the pointers (`i`, `j`, `k`) accordingly.

### Handling Remaining Elements:

- Since `nums1` already contains valid elements, only the remaining elements in `nums2` need to be copied.
- The loop handles this case by continuing until all elements from `nums2` are merged.
"""),
    nbf.new_markdown_cell("""
## Complexity

- **Time Complexity**: O(m + n), where `m` and `n` are the lengths of `nums1` and `nums2`.
- **Space Complexity**: O(1), since we're modifying `nums1` in-place without using additional space.
"""),
    nbf.new_code_cell("""
class Solution:
    def merge(self, nums1, m, nums2, n):
        \"\"\"
        Merges nums2 into nums1 in-place.
        \"\"\"
        i = m - 1  # Last index of nums1's initial elements
        j = n - 1  # Last index of nums2
        k = m + n - 1  # Last index of nums1 after merge

        while j >= 0:
            if i >= 0 and nums1[i] > nums2[j]:
                nums1[k] = nums1[i]
                i -= 1
            else:
                nums1[k] = nums2[j]
                j -= 1
            k -= 1
"""),
    nbf.new_markdown_cell("""
## Example Usage

Let's see how this works with an example.
"""),
    nbf.new_code_cell("""
# Initialize the arrays and their sizes
nums1 = [1, 2, 3, 0, 0, 0]
m = 3  # Number of initialized elements in nums1
nums2 = [2, 5, 6]
n = 3  # Number of elements in nums2

# Create an instance of the solution and merge
solution = Solution()
solution.merge(nums1, m, nums2, n)

# Output the merged array
print(nums1)
"""),
    nbf.new_markdown_cell("""
**Output:**

